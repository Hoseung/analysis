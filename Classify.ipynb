{
 "cells": [
  {
   "cell_type": "code",
   "execution_count": 1,
   "id": "59841c27",
   "metadata": {},
   "outputs": [],
   "source": [
    "%load_ext autoreload\n",
    "%autoreload 2"
   ]
  },
  {
   "cell_type": "code",
   "execution_count": 2,
   "id": "9523f6ac",
   "metadata": {},
   "outputs": [],
   "source": [
    "import numpy as np\n",
    "import cv2\n",
    "from glob import glob"
   ]
  },
  {
   "cell_type": "code",
   "execution_count": 3,
   "id": "0eb29c3b",
   "metadata": {},
   "outputs": [],
   "source": [
    "flist = glob(\"./week2/DRIVER003/*.mp4\")"
   ]
  },
  {
   "cell_type": "code",
   "execution_count": 4,
   "id": "7a55f79f",
   "metadata": {},
   "outputs": [
    {
     "data": {
      "text/plain": [
       "'./week2/DRIVER003/DRIVER003-EVENT-PHON-NORM_1636.mp4'"
      ]
     },
     "execution_count": 4,
     "metadata": {},
     "output_type": "execute_result"
    }
   ],
   "source": [
    "fn = flist[0]\n",
    "fn"
   ]
  },
  {
   "cell_type": "code",
   "execution_count": 4,
   "id": "32c93fea",
   "metadata": {},
   "outputs": [],
   "source": [
    "import string    \n",
    "\n",
    "def keyboard_input():\n",
    "    text = \"\"\n",
    "    letters = string.ascii_lowercase + string.digits\n",
    "    while True:\n",
    "        key = cv2.waitKey(1)\n",
    "        for letter in letters:\n",
    "            if key == ord(letter):\n",
    "                text = text + letter\n",
    "        if key == ord(\"\\n\") or key == ord(\"\\r\"): # Enter Key\n",
    "            break\n",
    "    return text"
   ]
  },
  {
   "cell_type": "code",
   "execution_count": 7,
   "id": "f5dc8351",
   "metadata": {},
   "outputs": [],
   "source": [
    "import vlc\n",
    "from myvlc import VlcPlayer"
   ]
  },
  {
   "cell_type": "code",
   "execution_count": 9,
   "id": "abfc60b7",
   "metadata": {},
   "outputs": [],
   "source": [
    "vp = VlcPlayer()"
   ]
  },
  {
   "cell_type": "code",
   "execution_count": null,
   "id": "f41ae4a0",
   "metadata": {},
   "outputs": [],
   "source": [
    "vp."
   ]
  },
  {
   "cell_type": "code",
   "execution_count": null,
   "id": "68b321de",
   "metadata": {},
   "outputs": [],
   "source": []
  },
  {
   "cell_type": "code",
   "execution_count": null,
   "id": "9280bc8a",
   "metadata": {},
   "outputs": [],
   "source": []
  },
  {
   "cell_type": "code",
   "execution_count": null,
   "id": "51bfe8bf",
   "metadata": {},
   "outputs": [],
   "source": []
  },
  {
   "cell_type": "code",
   "execution_count": null,
   "id": "580f50f9",
   "metadata": {},
   "outputs": [],
   "source": []
  },
  {
   "cell_type": "code",
   "execution_count": 7,
   "id": "a673ab50",
   "metadata": {},
   "outputs": [],
   "source": [
    "media = vlc.MediaPlayer(fn)"
   ]
  },
  {
   "cell_type": "code",
   "execution_count": 8,
   "id": "93940a30",
   "metadata": {},
   "outputs": [
    {
     "data": {
      "text/plain": [
       "0"
      ]
     },
     "execution_count": 8,
     "metadata": {},
     "output_type": "execute_result"
    },
    {
     "name": "stderr",
     "output_type": "stream",
     "text": [
      "[00007fc81011db00] xcb_window window error: X server failure\n"
     ]
    }
   ],
   "source": [
    "media.play()"
   ]
  },
  {
   "cell_type": "markdown",
   "id": "368bbfcc",
   "metadata": {},
   "source": [
    "media list"
   ]
  },
  {
   "cell_type": "code",
   "execution_count": 9,
   "id": "1bb58939",
   "metadata": {},
   "outputs": [],
   "source": [
    "media_player = vlc.MediaListPlayer()\n",
    "  \n",
    "# creating Instance class object\n",
    "player = vlc.Instance()\n",
    "  \n",
    "# creating a new media list\n",
    "media_list = player.media_list_new()\n",
    "\n",
    "for fn in flist:\n",
    "    # creating a new media\n",
    "    media = player.media_new(fn)\n",
    "\n",
    "    # adding media to media list\n",
    "    media_list.add_media(media)"
   ]
  },
  {
   "cell_type": "code",
   "execution_count": 18,
   "id": "f97158dc",
   "metadata": {},
   "outputs": [],
   "source": [
    "instance = vlc.Instance()"
   ]
  },
  {
   "cell_type": "code",
   "execution_count": null,
   "id": "d0ee14fd",
   "metadata": {},
   "outputs": [],
   "source": [
    "instance.media_e"
   ]
  },
  {
   "cell_type": "code",
   "execution_count": 11,
   "id": "84acbba6",
   "metadata": {},
   "outputs": [
    {
     "data": {
      "text/plain": [
       "2343"
      ]
     },
     "execution_count": 11,
     "metadata": {},
     "output_type": "execute_result"
    }
   ],
   "source": [
    "media_list.count()"
   ]
  },
  {
   "cell_type": "code",
   "execution_count": 13,
   "id": "d4ca1971",
   "metadata": {},
   "outputs": [],
   "source": [
    "media_player.set_media_list(media_list)"
   ]
  },
  {
   "cell_type": "code",
   "execution_count": 14,
   "id": "eb8f6f55",
   "metadata": {},
   "outputs": [
    {
     "name": "stderr",
     "output_type": "stream",
     "text": [
      "[00007fc8100e81c0] xcb_window window error: X server failure\n"
     ]
    }
   ],
   "source": [
    "media_player.play()"
   ]
  },
  {
   "cell_type": "code",
   "execution_count": 7,
   "id": "b87420ee",
   "metadata": {
    "scrolled": true
   },
   "outputs": [
    {
     "data": {
      "text/plain": [
       "113"
      ]
     },
     "execution_count": 7,
     "metadata": {},
     "output_type": "execute_result"
    }
   ],
   "source": [
    "ord('q')"
   ]
  },
  {
   "cell_type": "code",
   "execution_count": 6,
   "id": "ab5f8b82",
   "metadata": {},
   "outputs": [
    {
     "name": "stderr",
     "output_type": "stream",
     "text": [
      "QObject::moveToThread: Current thread (0x559a1e09afa0) is not the object's thread (0x559a20ee86b0).\n",
      "Cannot move to target thread (0x559a1e09afa0)\n",
      "\n",
      "QObject::moveToThread: Current thread (0x559a1e09afa0) is not the object's thread (0x559a20ee86b0).\n",
      "Cannot move to target thread (0x559a1e09afa0)\n",
      "\n",
      "QObject::moveToThread: Current thread (0x559a1e09afa0) is not the object's thread (0x559a20ee86b0).\n",
      "Cannot move to target thread (0x559a1e09afa0)\n",
      "\n",
      "QObject::moveToThread: Current thread (0x559a1e09afa0) is not the object's thread (0x559a20ee86b0).\n",
      "Cannot move to target thread (0x559a1e09afa0)\n",
      "\n",
      "QObject::moveToThread: Current thread (0x559a1e09afa0) is not the object's thread (0x559a20ee86b0).\n",
      "Cannot move to target thread (0x559a1e09afa0)\n",
      "\n",
      "QObject::moveToThread: Current thread (0x559a1e09afa0) is not the object's thread (0x559a20ee86b0).\n",
      "Cannot move to target thread (0x559a1e09afa0)\n",
      "\n",
      "QObject::moveToThread: Current thread (0x559a1e09afa0) is not the object's thread (0x559a20ee86b0).\n",
      "Cannot move to target thread (0x559a1e09afa0)\n",
      "\n",
      "QObject::moveToThread: Current thread (0x559a1e09afa0) is not the object's thread (0x559a20ee86b0).\n",
      "Cannot move to target thread (0x559a1e09afa0)\n",
      "\n",
      "QObject::moveToThread: Current thread (0x559a1e09afa0) is not the object's thread (0x559a20ee86b0).\n",
      "Cannot move to target thread (0x559a1e09afa0)\n",
      "\n",
      "QObject::moveToThread: Current thread (0x559a1e09afa0) is not the object's thread (0x559a20ee86b0).\n",
      "Cannot move to target thread (0x559a1e09afa0)\n",
      "\n",
      "QObject::moveToThread: Current thread (0x559a1e09afa0) is not the object's thread (0x559a20ee86b0).\n",
      "Cannot move to target thread (0x559a1e09afa0)\n",
      "\n",
      "QObject::moveToThread: Current thread (0x559a1e09afa0) is not the object's thread (0x559a20ee86b0).\n",
      "Cannot move to target thread (0x559a1e09afa0)\n",
      "\n",
      "QObject::moveToThread: Current thread (0x559a1e09afa0) is not the object's thread (0x559a20ee86b0).\n",
      "Cannot move to target thread (0x559a1e09afa0)\n",
      "\n",
      "QObject::moveToThread: Current thread (0x559a1e09afa0) is not the object's thread (0x559a20ee86b0).\n",
      "Cannot move to target thread (0x559a1e09afa0)\n",
      "\n",
      "QObject::moveToThread: Current thread (0x559a1e09afa0) is not the object's thread (0x559a20ee86b0).\n",
      "Cannot move to target thread (0x559a1e09afa0)\n",
      "\n",
      "QObject::moveToThread: Current thread (0x559a1e09afa0) is not the object's thread (0x559a20ee86b0).\n",
      "Cannot move to target thread (0x559a1e09afa0)\n",
      "\n",
      "QObject::moveToThread: Current thread (0x559a1e09afa0) is not the object's thread (0x559a20ee86b0).\n",
      "Cannot move to target thread (0x559a1e09afa0)\n",
      "\n",
      "QObject::moveToThread: Current thread (0x559a1e09afa0) is not the object's thread (0x559a20ee86b0).\n",
      "Cannot move to target thread (0x559a1e09afa0)\n",
      "\n",
      "QObject::moveToThread: Current thread (0x559a1e09afa0) is not the object's thread (0x559a20ee86b0).\n",
      "Cannot move to target thread (0x559a1e09afa0)\n",
      "\n",
      "QObject::moveToThread: Current thread (0x559a1e09afa0) is not the object's thread (0x559a20ee86b0).\n",
      "Cannot move to target thread (0x559a1e09afa0)\n",
      "\n",
      "QObject::moveToThread: Current thread (0x559a1e09afa0) is not the object's thread (0x559a20ee86b0).\n",
      "Cannot move to target thread (0x559a1e09afa0)\n",
      "\n",
      "QObject::moveToThread: Current thread (0x559a1e09afa0) is not the object's thread (0x559a20ee86b0).\n",
      "Cannot move to target thread (0x559a1e09afa0)\n",
      "\n",
      "QObject::moveToThread: Current thread (0x559a1e09afa0) is not the object's thread (0x559a20ee86b0).\n",
      "Cannot move to target thread (0x559a1e09afa0)\n",
      "\n",
      "QObject::moveToThread: Current thread (0x559a1e09afa0) is not the object's thread (0x559a20ee86b0).\n",
      "Cannot move to target thread (0x559a1e09afa0)\n",
      "\n",
      "QObject::moveToThread: Current thread (0x559a1e09afa0) is not the object's thread (0x559a20ee86b0).\n",
      "Cannot move to target thread (0x559a1e09afa0)\n",
      "\n",
      "QObject::moveToThread: Current thread (0x559a1e09afa0) is not the object's thread (0x559a20ee86b0).\n",
      "Cannot move to target thread (0x559a1e09afa0)\n",
      "\n",
      "QObject::moveToThread: Current thread (0x559a1e09afa0) is not the object's thread (0x559a20ee86b0).\n",
      "Cannot move to target thread (0x559a1e09afa0)\n",
      "\n",
      "QObject::moveToThread: Current thread (0x559a1e09afa0) is not the object's thread (0x559a20ee86b0).\n",
      "Cannot move to target thread (0x559a1e09afa0)\n",
      "\n",
      "QObject::moveToThread: Current thread (0x559a1e09afa0) is not the object's thread (0x559a20ee86b0).\n",
      "Cannot move to target thread (0x559a1e09afa0)\n",
      "\n",
      "QObject::moveToThread: Current thread (0x559a1e09afa0) is not the object's thread (0x559a20ee86b0).\n",
      "Cannot move to target thread (0x559a1e09afa0)\n",
      "\n",
      "QObject::moveToThread: Current thread (0x559a1e09afa0) is not the object's thread (0x559a20ee86b0).\n",
      "Cannot move to target thread (0x559a1e09afa0)\n",
      "\n",
      "QObject::moveToThread: Current thread (0x559a1e09afa0) is not the object's thread (0x559a20ee86b0).\n",
      "Cannot move to target thread (0x559a1e09afa0)\n",
      "\n",
      "QObject::moveToThread: Current thread (0x559a1e09afa0) is not the object's thread (0x559a20ee86b0).\n",
      "Cannot move to target thread (0x559a1e09afa0)\n",
      "\n",
      "QObject::moveToThread: Current thread (0x559a1e09afa0) is not the object's thread (0x559a20ee86b0).\n",
      "Cannot move to target thread (0x559a1e09afa0)\n",
      "\n",
      "QObject::moveToThread: Current thread (0x559a1e09afa0) is not the object's thread (0x559a20ee86b0).\n",
      "Cannot move to target thread (0x559a1e09afa0)\n",
      "\n",
      "QObject::moveToThread: Current thread (0x559a1e09afa0) is not the object's thread (0x559a20ee86b0).\n",
      "Cannot move to target thread (0x559a1e09afa0)\n",
      "\n",
      "QObject::moveToThread: Current thread (0x559a1e09afa0) is not the object's thread (0x559a20ee86b0).\n",
      "Cannot move to target thread (0x559a1e09afa0)\n",
      "\n",
      "QObject::moveToThread: Current thread (0x559a1e09afa0) is not the object's thread (0x559a20ee86b0).\n",
      "Cannot move to target thread (0x559a1e09afa0)\n",
      "\n",
      "QObject::moveToThread: Current thread (0x559a1e09afa0) is not the object's thread (0x559a20ee86b0).\n",
      "Cannot move to target thread (0x559a1e09afa0)\n",
      "\n",
      "QObject::moveToThread: Current thread (0x559a1e09afa0) is not the object's thread (0x559a20ee86b0).\n",
      "Cannot move to target thread (0x559a1e09afa0)\n",
      "\n",
      "QObject::moveToThread: Current thread (0x559a1e09afa0) is not the object's thread (0x559a20ee86b0).\n",
      "Cannot move to target thread (0x559a1e09afa0)\n",
      "\n",
      "QObject::moveToThread: Current thread (0x559a1e09afa0) is not the object's thread (0x559a20ee86b0).\n",
      "Cannot move to target thread (0x559a1e09afa0)\n",
      "\n",
      "QObject::moveToThread: Current thread (0x559a1e09afa0) is not the object's thread (0x559a20ee86b0).\n",
      "Cannot move to target thread (0x559a1e09afa0)\n",
      "\n",
      "QObject::moveToThread: Current thread (0x559a1e09afa0) is not the object's thread (0x559a20ee86b0).\n",
      "Cannot move to target thread (0x559a1e09afa0)\n",
      "\n",
      "QObject::moveToThread: Current thread (0x559a1e09afa0) is not the object's thread (0x559a20ee86b0).\n",
      "Cannot move to target thread (0x559a1e09afa0)\n",
      "\n",
      "QObject::moveToThread: Current thread (0x559a1e09afa0) is not the object's thread (0x559a20ee86b0).\n",
      "Cannot move to target thread (0x559a1e09afa0)\n",
      "\n",
      "QObject::moveToThread: Current thread (0x559a1e09afa0) is not the object's thread (0x559a20ee86b0).\n",
      "Cannot move to target thread (0x559a1e09afa0)\n",
      "\n",
      "QObject::moveToThread: Current thread (0x559a1e09afa0) is not the object's thread (0x559a20ee86b0).\n",
      "Cannot move to target thread (0x559a1e09afa0)\n",
      "\n",
      "QObject::moveToThread: Current thread (0x559a1e09afa0) is not the object's thread (0x559a20ee86b0).\n",
      "Cannot move to target thread (0x559a1e09afa0)\n",
      "\n",
      "QObject::moveToThread: Current thread (0x559a1e09afa0) is not the object's thread (0x559a20ee86b0).\n",
      "Cannot move to target thread (0x559a1e09afa0)\n",
      "\n",
      "QObject::moveToThread: Current thread (0x559a1e09afa0) is not the object's thread (0x559a20ee86b0).\n",
      "Cannot move to target thread (0x559a1e09afa0)\n",
      "\n",
      "QObject::moveToThread: Current thread (0x559a1e09afa0) is not the object's thread (0x559a20ee86b0).\n",
      "Cannot move to target thread (0x559a1e09afa0)\n",
      "\n",
      "QObject::moveToThread: Current thread (0x559a1e09afa0) is not the object's thread (0x559a20ee86b0).\n",
      "Cannot move to target thread (0x559a1e09afa0)\n",
      "\n",
      "QObject::moveToThread: Current thread (0x559a1e09afa0) is not the object's thread (0x559a20ee86b0).\n",
      "Cannot move to target thread (0x559a1e09afa0)\n",
      "\n",
      "QObject::moveToThread: Current thread (0x559a1e09afa0) is not the object's thread (0x559a20ee86b0).\n",
      "Cannot move to target thread (0x559a1e09afa0)\n",
      "\n",
      "QObject::moveToThread: Current thread (0x559a1e09afa0) is not the object's thread (0x559a20ee86b0).\n",
      "Cannot move to target thread (0x559a1e09afa0)\n",
      "\n",
      "QObject::moveToThread: Current thread (0x559a1e09afa0) is not the object's thread (0x559a20ee86b0).\n",
      "Cannot move to target thread (0x559a1e09afa0)\n",
      "\n",
      "QObject::moveToThread: Current thread (0x559a1e09afa0) is not the object's thread (0x559a20ee86b0).\n",
      "Cannot move to target thread (0x559a1e09afa0)\n",
      "\n",
      "QObject::moveToThread: Current thread (0x559a1e09afa0) is not the object's thread (0x559a20ee86b0).\n",
      "Cannot move to target thread (0x559a1e09afa0)\n",
      "\n",
      "QObject::moveToThread: Current thread (0x559a1e09afa0) is not the object's thread (0x559a20ee86b0).\n",
      "Cannot move to target thread (0x559a1e09afa0)\n",
      "\n",
      "QObject::moveToThread: Current thread (0x559a1e09afa0) is not the object's thread (0x559a20ee86b0).\n",
      "Cannot move to target thread (0x559a1e09afa0)\n",
      "\n",
      "QObject::moveToThread: Current thread (0x559a1e09afa0) is not the object's thread (0x559a20ee86b0).\n",
      "Cannot move to target thread (0x559a1e09afa0)\n",
      "\n",
      "QObject::moveToThread: Current thread (0x559a1e09afa0) is not the object's thread (0x559a20ee86b0).\n",
      "Cannot move to target thread (0x559a1e09afa0)\n",
      "\n",
      "QObject::moveToThread: Current thread (0x559a1e09afa0) is not the object's thread (0x559a20ee86b0).\n",
      "Cannot move to target thread (0x559a1e09afa0)\n",
      "\n",
      "QObject::moveToThread: Current thread (0x559a1e09afa0) is not the object's thread (0x559a20ee86b0).\n",
      "Cannot move to target thread (0x559a1e09afa0)\n",
      "\n",
      "QObject::moveToThread: Current thread (0x559a1e09afa0) is not the object's thread (0x559a20ee86b0).\n",
      "Cannot move to target thread (0x559a1e09afa0)\n",
      "\n",
      "QObject::moveToThread: Current thread (0x559a1e09afa0) is not the object's thread (0x559a20ee86b0).\n",
      "Cannot move to target thread (0x559a1e09afa0)\n",
      "\n",
      "QObject::moveToThread: Current thread (0x559a1e09afa0) is not the object's thread (0x559a20ee86b0).\n",
      "Cannot move to target thread (0x559a1e09afa0)\n",
      "\n",
      "QObject::moveToThread: Current thread (0x559a1e09afa0) is not the object's thread (0x559a20ee86b0).\n",
      "Cannot move to target thread (0x559a1e09afa0)\n",
      "\n",
      "QObject::moveToThread: Current thread (0x559a1e09afa0) is not the object's thread (0x559a20ee86b0).\n",
      "Cannot move to target thread (0x559a1e09afa0)\n",
      "\n",
      "QObject::moveToThread: Current thread (0x559a1e09afa0) is not the object's thread (0x559a20ee86b0).\n",
      "Cannot move to target thread (0x559a1e09afa0)\n",
      "\n",
      "QObject::moveToThread: Current thread (0x559a1e09afa0) is not the object's thread (0x559a20ee86b0).\n",
      "Cannot move to target thread (0x559a1e09afa0)\n",
      "\n",
      "QObject::moveToThread: Current thread (0x559a1e09afa0) is not the object's thread (0x559a20ee86b0).\n",
      "Cannot move to target thread (0x559a1e09afa0)\n",
      "\n",
      "QObject::moveToThread: Current thread (0x559a1e09afa0) is not the object's thread (0x559a20ee86b0).\n",
      "Cannot move to target thread (0x559a1e09afa0)\n",
      "\n",
      "QObject::moveToThread: Current thread (0x559a1e09afa0) is not the object's thread (0x559a20ee86b0).\n",
      "Cannot move to target thread (0x559a1e09afa0)\n",
      "\n",
      "QObject::moveToThread: Current thread (0x559a1e09afa0) is not the object's thread (0x559a20ee86b0).\n",
      "Cannot move to target thread (0x559a1e09afa0)\n",
      "\n",
      "QObject::moveToThread: Current thread (0x559a1e09afa0) is not the object's thread (0x559a20ee86b0).\n",
      "Cannot move to target thread (0x559a1e09afa0)\n",
      "\n",
      "QObject::moveToThread: Current thread (0x559a1e09afa0) is not the object's thread (0x559a20ee86b0).\n",
      "Cannot move to target thread (0x559a1e09afa0)\n",
      "\n",
      "QObject::moveToThread: Current thread (0x559a1e09afa0) is not the object's thread (0x559a20ee86b0).\n",
      "Cannot move to target thread (0x559a1e09afa0)\n",
      "\n",
      "QObject::moveToThread: Current thread (0x559a1e09afa0) is not the object's thread (0x559a20ee86b0).\n",
      "Cannot move to target thread (0x559a1e09afa0)\n",
      "\n",
      "QObject::moveToThread: Current thread (0x559a1e09afa0) is not the object's thread (0x559a20ee86b0).\n",
      "Cannot move to target thread (0x559a1e09afa0)\n",
      "\n",
      "QObject::moveToThread: Current thread (0x559a1e09afa0) is not the object's thread (0x559a20ee86b0).\n",
      "Cannot move to target thread (0x559a1e09afa0)\n",
      "\n",
      "QObject::moveToThread: Current thread (0x559a1e09afa0) is not the object's thread (0x559a20ee86b0).\n",
      "Cannot move to target thread (0x559a1e09afa0)\n",
      "\n",
      "QObject::moveToThread: Current thread (0x559a1e09afa0) is not the object's thread (0x559a20ee86b0).\n",
      "Cannot move to target thread (0x559a1e09afa0)\n",
      "\n",
      "QObject::moveToThread: Current thread (0x559a1e09afa0) is not the object's thread (0x559a20ee86b0).\n",
      "Cannot move to target thread (0x559a1e09afa0)\n",
      "\n",
      "QObject::moveToThread: Current thread (0x559a1e09afa0) is not the object's thread (0x559a20ee86b0).\n",
      "Cannot move to target thread (0x559a1e09afa0)\n",
      "\n",
      "QObject::moveToThread: Current thread (0x559a1e09afa0) is not the object's thread (0x559a20ee86b0).\n",
      "Cannot move to target thread (0x559a1e09afa0)\n",
      "\n",
      "QObject::moveToThread: Current thread (0x559a1e09afa0) is not the object's thread (0x559a20ee86b0).\n",
      "Cannot move to target thread (0x559a1e09afa0)\n",
      "\n",
      "QObject::moveToThread: Current thread (0x559a1e09afa0) is not the object's thread (0x559a20ee86b0).\n",
      "Cannot move to target thread (0x559a1e09afa0)\n",
      "\n",
      "QObject::moveToThread: Current thread (0x559a1e09afa0) is not the object's thread (0x559a20ee86b0).\n",
      "Cannot move to target thread (0x559a1e09afa0)\n",
      "\n",
      "QObject::moveToThread: Current thread (0x559a1e09afa0) is not the object's thread (0x559a20ee86b0).\n",
      "Cannot move to target thread (0x559a1e09afa0)\n",
      "\n",
      "QObject::moveToThread: Current thread (0x559a1e09afa0) is not the object's thread (0x559a20ee86b0).\n",
      "Cannot move to target thread (0x559a1e09afa0)\n",
      "\n",
      "QObject::moveToThread: Current thread (0x559a1e09afa0) is not the object's thread (0x559a20ee86b0).\n",
      "Cannot move to target thread (0x559a1e09afa0)\n",
      "\n",
      "QObject::moveToThread: Current thread (0x559a1e09afa0) is not the object's thread (0x559a20ee86b0).\n",
      "Cannot move to target thread (0x559a1e09afa0)\n",
      "\n",
      "QObject::moveToThread: Current thread (0x559a1e09afa0) is not the object's thread (0x559a20ee86b0).\n",
      "Cannot move to target thread (0x559a1e09afa0)\n",
      "\n",
      "QObject::moveToThread: Current thread (0x559a1e09afa0) is not the object's thread (0x559a20ee86b0).\n",
      "Cannot move to target thread (0x559a1e09afa0)\n",
      "\n",
      "QObject::moveToThread: Current thread (0x559a1e09afa0) is not the object's thread (0x559a20ee86b0).\n",
      "Cannot move to target thread (0x559a1e09afa0)\n",
      "\n",
      "QObject::moveToThread: Current thread (0x559a1e09afa0) is not the object's thread (0x559a20ee86b0).\n",
      "Cannot move to target thread (0x559a1e09afa0)\n",
      "\n",
      "QObject::moveToThread: Current thread (0x559a1e09afa0) is not the object's thread (0x559a20ee86b0).\n",
      "Cannot move to target thread (0x559a1e09afa0)\n",
      "\n",
      "QObject::moveToThread: Current thread (0x559a1e09afa0) is not the object's thread (0x559a20ee86b0).\n",
      "Cannot move to target thread (0x559a1e09afa0)\n",
      "\n",
      "QObject::moveToThread: Current thread (0x559a1e09afa0) is not the object's thread (0x559a20ee86b0).\n",
      "Cannot move to target thread (0x559a1e09afa0)\n",
      "\n",
      "QObject::moveToThread: Current thread (0x559a1e09afa0) is not the object's thread (0x559a20ee86b0).\n",
      "Cannot move to target thread (0x559a1e09afa0)\n",
      "\n",
      "QObject::moveToThread: Current thread (0x559a1e09afa0) is not the object's thread (0x559a20ee86b0).\n",
      "Cannot move to target thread (0x559a1e09afa0)\n",
      "\n",
      "QObject::moveToThread: Current thread (0x559a1e09afa0) is not the object's thread (0x559a20ee86b0).\n",
      "Cannot move to target thread (0x559a1e09afa0)\n",
      "\n",
      "QObject::moveToThread: Current thread (0x559a1e09afa0) is not the object's thread (0x559a20ee86b0).\n",
      "Cannot move to target thread (0x559a1e09afa0)\n",
      "\n",
      "QObject::moveToThread: Current thread (0x559a1e09afa0) is not the object's thread (0x559a20ee86b0).\n",
      "Cannot move to target thread (0x559a1e09afa0)\n",
      "\n",
      "QObject::moveToThread: Current thread (0x559a1e09afa0) is not the object's thread (0x559a20ee86b0).\n",
      "Cannot move to target thread (0x559a1e09afa0)\n",
      "\n",
      "QObject::moveToThread: Current thread (0x559a1e09afa0) is not the object's thread (0x559a20ee86b0).\n",
      "Cannot move to target thread (0x559a1e09afa0)\n",
      "\n",
      "QObject::moveToThread: Current thread (0x559a1e09afa0) is not the object's thread (0x559a20ee86b0).\n",
      "Cannot move to target thread (0x559a1e09afa0)\n",
      "\n",
      "QObject::moveToThread: Current thread (0x559a1e09afa0) is not the object's thread (0x559a20ee86b0).\n",
      "Cannot move to target thread (0x559a1e09afa0)\n",
      "\n",
      "QObject::moveToThread: Current thread (0x559a1e09afa0) is not the object's thread (0x559a20ee86b0).\n",
      "Cannot move to target thread (0x559a1e09afa0)\n",
      "\n",
      "QObject::moveToThread: Current thread (0x559a1e09afa0) is not the object's thread (0x559a20ee86b0).\n",
      "Cannot move to target thread (0x559a1e09afa0)\n",
      "\n",
      "QObject::moveToThread: Current thread (0x559a1e09afa0) is not the object's thread (0x559a20ee86b0).\n",
      "Cannot move to target thread (0x559a1e09afa0)\n",
      "\n",
      "QObject::moveToThread: Current thread (0x559a1e09afa0) is not the object's thread (0x559a20ee86b0).\n",
      "Cannot move to target thread (0x559a1e09afa0)\n",
      "\n",
      "QObject::moveToThread: Current thread (0x559a1e09afa0) is not the object's thread (0x559a20ee86b0).\n",
      "Cannot move to target thread (0x559a1e09afa0)\n",
      "\n",
      "QObject::moveToThread: Current thread (0x559a1e09afa0) is not the object's thread (0x559a20ee86b0).\n",
      "Cannot move to target thread (0x559a1e09afa0)\n",
      "\n",
      "QObject::moveToThread: Current thread (0x559a1e09afa0) is not the object's thread (0x559a20ee86b0).\n",
      "Cannot move to target thread (0x559a1e09afa0)\n",
      "\n",
      "QObject::moveToThread: Current thread (0x559a1e09afa0) is not the object's thread (0x559a20ee86b0).\n",
      "Cannot move to target thread (0x559a1e09afa0)\n",
      "\n",
      "QObject::moveToThread: Current thread (0x559a1e09afa0) is not the object's thread (0x559a20ee86b0).\n",
      "Cannot move to target thread (0x559a1e09afa0)\n",
      "\n",
      "QObject::moveToThread: Current thread (0x559a1e09afa0) is not the object's thread (0x559a20ee86b0).\n",
      "Cannot move to target thread (0x559a1e09afa0)\n",
      "\n",
      "QObject::moveToThread: Current thread (0x559a1e09afa0) is not the object's thread (0x559a20ee86b0).\n",
      "Cannot move to target thread (0x559a1e09afa0)\n",
      "\n",
      "QObject::moveToThread: Current thread (0x559a1e09afa0) is not the object's thread (0x559a20ee86b0).\n",
      "Cannot move to target thread (0x559a1e09afa0)\n",
      "\n",
      "QObject::moveToThread: Current thread (0x559a1e09afa0) is not the object's thread (0x559a20ee86b0).\n",
      "Cannot move to target thread (0x559a1e09afa0)\n",
      "\n",
      "QObject::moveToThread: Current thread (0x559a1e09afa0) is not the object's thread (0x559a20ee86b0).\n",
      "Cannot move to target thread (0x559a1e09afa0)\n",
      "\n",
      "QObject::moveToThread: Current thread (0x559a1e09afa0) is not the object's thread (0x559a20ee86b0).\n",
      "Cannot move to target thread (0x559a1e09afa0)\n",
      "\n",
      "QObject::moveToThread: Current thread (0x559a1e09afa0) is not the object's thread (0x559a20ee86b0).\n",
      "Cannot move to target thread (0x559a1e09afa0)\n",
      "\n"
     ]
    }
   ],
   "source": [
    "letters = string.ascii_lowercase + string.digits\n",
    "\n",
    "cap = cv2.VideoCapture(fn)\n",
    "\n",
    "# Check if camera opened successfully\n",
    "if (cap.isOpened()== False): \n",
    "  print(\"Error opening video stream or file\")\n",
    "\n",
    "\n",
    "text = \"\"\n",
    "\n",
    "# Read until video is completed\n",
    "while(cap.isOpened()):\n",
    "    \n",
    "  # Capture frame-by-frame\n",
    "  ret, frame = cap.read()\n",
    "  if ret == True:\n",
    "\n",
    "    # Display the resulting frame\n",
    "    cv2.imshow('Frame',frame)\n",
    "    \n",
    "    key = cv2.waitKey(1) # ord == ordinal\n",
    "    if key == 27:\n",
    "        break\n",
    "    else:\n",
    "        # get keys\n",
    "        while True:\n",
    "            key = cv2.waitKey(1)\n",
    "            for letter in letters:\n",
    "                if key == ord(letter):\n",
    "                    text = text + letter\n",
    "            if key == ord(\"\\n\") or key == ord(\"\\r\"): # Enter Key\n",
    "                break\n",
    "\n",
    "    # Press Q on keyboard to  exit\n",
    "    if cv2.waitKey(25) & 0xFF == ord('q'):\n",
    "      break\n",
    "\n",
    "  # Break the loop\n",
    "  else: \n",
    "    user_input = keyboard_input()\n",
    "    break\n",
    "\n",
    "# When everything done, release the video capture object\n",
    "cap.release()\n",
    "\n",
    "# Closes all the frames\n",
    "cv2.destroyAllWindows()"
   ]
  },
  {
   "cell_type": "code",
   "execution_count": 7,
   "id": "4895b1b1",
   "metadata": {},
   "outputs": [
    {
     "data": {
      "text/plain": [
       "'12'"
      ]
     },
     "execution_count": 7,
     "metadata": {},
     "output_type": "execute_result"
    }
   ],
   "source": []
  },
  {
   "cell_type": "code",
   "execution_count": 6,
   "id": "da5c8d3c",
   "metadata": {},
   "outputs": [
    {
     "data": {
      "text/plain": [
       "'./week2/DRIVER003/DRIVER003-EVENT-PHON-NORM_1636.mp4'"
      ]
     },
     "execution_count": 6,
     "metadata": {},
     "output_type": "execute_result"
    }
   ],
   "source": [
    "fn"
   ]
  },
  {
   "cell_type": "code",
   "execution_count": null,
   "id": "80ebc140",
   "metadata": {},
   "outputs": [],
   "source": []
  },
  {
   "cell_type": "code",
   "execution_count": null,
   "id": "7d43756d",
   "metadata": {},
   "outputs": [],
   "source": []
  },
  {
   "cell_type": "markdown",
   "id": "f39be082",
   "metadata": {},
   "source": [
    "gstreamer로 동영상 재생. CMD에서는 잘 돌아감. "
   ]
  }
 ],
 "metadata": {
  "kernelspec": {
   "display_name": "Python 3 (ipykernel)",
   "language": "python",
   "name": "python3"
  },
  "language_info": {
   "codemirror_mode": {
    "name": "ipython",
    "version": 3
   },
   "file_extension": ".py",
   "mimetype": "text/x-python",
   "name": "python",
   "nbconvert_exporter": "python",
   "pygments_lexer": "ipython3",
   "version": "3.10.4"
  }
 },
 "nbformat": 4,
 "nbformat_minor": 5
}
