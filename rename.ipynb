{
 "cells": [
  {
   "cell_type": "code",
   "execution_count": 32,
   "id": "010b0f6d",
   "metadata": {},
   "outputs": [],
   "source": [
    "import csv\n",
    "import numpy as np\n",
    "\n",
    "from glob import glob\n",
    "import shutil\n",
    "import hashlib\n",
    "\n",
    "def get_early_hash(fn):\n",
    "    BUF_SIZE = 65536*128\n",
    "    h = hashlib.new(\"sha256\")\n",
    "    with open(fn, \"rb\") as f:\n",
    "        data = f.read(BUF_SIZE)\n",
    "        h.update(data)\n",
    "\n",
    "    return h.hexdigest()\n",
    "\n",
    "def replace(ss, newcode):\n",
    "    l = ss.split(\"/\")\n",
    "    ll = l[-1].split(\"-\")\n",
    "    return ss.replace(f\"-{ll[2]}-\", f\"-{newcode}-\")"
   ]
  },
  {
   "cell_type": "code",
   "execution_count": 33,
   "id": "a1654abc",
   "metadata": {},
   "outputs": [],
   "source": [
    "# 변환 기록 버전\n",
    "dir_list = [\"DRWS\", \"DSRT\", \"NORM\", \"PHON\", \"WPHN\"]\n",
    "\n",
    "nn = 2\n",
    "\n",
    "with open(f\"map_{nn:03d}.txt\", \"w\") as f:\n",
    "    for dd in dir_list:\n",
    "        flist1 = glob(f\"./DRIVER{nn:03d}-done/{dd}/*.*\")\n",
    "        flist1.sort()\n",
    "        #flist2 = glob(f\"./DRIVER{nn:03d}-done/{dd}/*.obd\")\n",
    "\n",
    "        for ff in flist1:\n",
    "            fnew = replace(ff, dd)\n",
    "            f.write(f\"{ff},{fnew}\\n\")\n",
    "            shutil.move(ff,fnew)\n",
    "            \n",
    "        #for ff in flist2:\n",
    "        #    fnew = replace(ff, dd)\n",
    "        #    f.write(f\"{ff},{fnew}\\n\")\n",
    "        #    shutil.move(ff,fnew)"
   ]
  },
  {
   "cell_type": "code",
   "execution_count": null,
   "id": "96a90c9d",
   "metadata": {},
   "outputs": [],
   "source": []
  },
  {
   "cell_type": "markdown",
   "id": "df4065f9",
   "metadata": {},
   "source": [
    "임시. 기존 파일의 체크섬 계산"
   ]
  },
  {
   "cell_type": "code",
   "execution_count": 34,
   "id": "9f1b4d9c",
   "metadata": {},
   "outputs": [],
   "source": [
    "nn = 2\n",
    "with open(f\"hashORG{nn:03d}.txt\", \"w\") as f:\n",
    "    dd = f\"driver{nn:03d}\"\n",
    "    flist1 = glob(f\"./ORG/{dd}/rec1/*.*\")\n",
    "\n",
    "    for ff in flist1:\n",
    "        f.write(f\"{ff},{get_early_hash(ff)}\\n\")"
   ]
  },
  {
   "cell_type": "markdown",
   "id": "71e61298",
   "metadata": {},
   "source": [
    "파일 이름 변환\n",
    "\n",
    "원본을 덮어쓰니 주의"
   ]
  },
  {
   "cell_type": "code",
   "execution_count": 35,
   "id": "3e15c0c8",
   "metadata": {},
   "outputs": [],
   "source": [
    "dir_list = [\"DRWS\", \"DSRT\", \"NORM\", \"PHON\", \"WPHN\"]\n",
    "\n",
    "nn = 2\n",
    "\n",
    "with open(f\"hash{nn:03d}.txt\", \"w\") as f:\n",
    "    for dd in dir_list:\n",
    "        flist1 = glob(f\"./DRIVER{nn:03d}-done/{dd}/*.mp4\")\n",
    "        flist2 = glob(f\"./DRIVER{nn:03d}-done/{dd}/*.obd\")\n",
    "\n",
    "        for ff in flist1:\n",
    "            f.write(f\"{ff},{get_early_hash(ff)}\\n\")\n",
    "            #shutil.move(ff, replace(ff, dd))\n",
    "            \n",
    "        for ff in flist2:\n",
    "            f.write(f\"{ff},{get_early_hash(ff)}\\n\")\n",
    "            #shutil.move(ff, replace(ff, dd))"
   ]
  },
  {
   "cell_type": "markdown",
   "id": "e65c2a13",
   "metadata": {},
   "source": [
    "파일 변환 매치"
   ]
  },
  {
   "cell_type": "code",
   "execution_count": 36,
   "id": "e4b67cdb",
   "metadata": {},
   "outputs": [],
   "source": [
    "for nn in [2]:\n",
    "    arr1org = np.array(list(csv.reader(open(f\"hashORG{nn:03d}.txt\", \"r\"))))\n",
    "    arr1done = np.array(list(csv.reader(open(f\"hash{nn:03d}.txt\", \"r\"))))\n",
    "\n",
    "    arr_sorted, i1o, i1d = np.intersect1d(arr1org[:,1], arr1done[:,1], assume_unique=False, return_indices=True)\n",
    "\n",
    "    with open(f\"map{nn:03d}.txt\", \"w\") as f:\n",
    "        f.write(\"ORG -> NEW\\n\")\n",
    "        for (i1, i2) in zip(i1o, i1d):\n",
    "            f.write(f\"{arr1org[i1,0]},{arr1done[i2,0]}\\n\")"
   ]
  },
  {
   "cell_type": "code",
   "execution_count": 37,
   "id": "ca9fe45b",
   "metadata": {},
   "outputs": [
    {
     "data": {
      "text/plain": [
       "3204"
      ]
     },
     "execution_count": 37,
     "metadata": {},
     "output_type": "execute_result"
    }
   ],
   "source": [
    "len(arr1org)"
   ]
  },
  {
   "cell_type": "code",
   "execution_count": 38,
   "id": "a1ba896a",
   "metadata": {},
   "outputs": [
    {
     "data": {
      "text/plain": [
       "3076"
      ]
     },
     "execution_count": 38,
     "metadata": {},
     "output_type": "execute_result"
    }
   ],
   "source": [
    "len(arr1done)"
   ]
  },
  {
   "cell_type": "code",
   "execution_count": 39,
   "id": "9bc4efcf",
   "metadata": {},
   "outputs": [
    {
     "data": {
      "text/plain": [
       "2675"
      ]
     },
     "execution_count": 39,
     "metadata": {},
     "output_type": "execute_result"
    }
   ],
   "source": [
    "len(i1o)"
   ]
  },
  {
   "cell_type": "code",
   "execution_count": 40,
   "id": "c99003b9",
   "metadata": {},
   "outputs": [
    {
     "data": {
      "text/plain": [
       "2675"
      ]
     },
     "execution_count": 40,
     "metadata": {},
     "output_type": "execute_result"
    }
   ],
   "source": [
    "len(i1d)"
   ]
  },
  {
   "cell_type": "code",
   "execution_count": null,
   "id": "4273e781",
   "metadata": {},
   "outputs": [],
   "source": [
    "arr_sorted, i1o, i1d = np.intersect1d(arr1org[:,0], arr1done[:,1], assume_unique=False, return_indices=True)"
   ]
  }
 ],
 "metadata": {
  "kernelspec": {
   "display_name": "Python 3 (ipykernel)",
   "language": "python",
   "name": "python3"
  },
  "language_info": {
   "codemirror_mode": {
    "name": "ipython",
    "version": 3
   },
   "file_extension": ".py",
   "mimetype": "text/x-python",
   "name": "python",
   "nbconvert_exporter": "python",
   "pygments_lexer": "ipython3",
   "version": "3.10.4"
  }
 },
 "nbformat": 4,
 "nbformat_minor": 5
}
